{
 "cells": [
  {
   "cell_type": "markdown",
   "metadata": {},
   "source": [
    "# DATA CLEANING PROJECT\n",
    "\n",
    "💡**Goal: <u>Project showcases two major datacleaning practices [ Handling Missing Values, Scaling and normalization ]with detailed tutorial.</u>**\n",
    "\n",
    "💡**Tools used : panda, numpy, sklearn, scipy, matplotlib, seaborn, mlxtend, python**\n",
    "\n",
    "💡**Dataset - FBI's National Instant Criminal Background Check System (November 1998 – March 2020)** \n",
    "\n",
    "**[Dataset Link](https://raw.githubusercontent.com/BuzzFeedNews/nics-firearm-background-checks/master/data/nics-firearm-background-checks.csv)-currently covers November 1998 – March 2020.**\n",
    "\n",
    "**The FBI provides data on the number of firearm checks by month, state, and type — but as a PDF on their site.** "
   ]
  },
  {
   "cell_type": "code",
   "execution_count": 1,
   "metadata": {},
   "outputs": [],
   "source": [
    "import pandas as pd\n",
    "import numpy as np\n",
    "from sklearn.ensemble import RandomForestRegressor\n",
    "from sklearn.impute import SimpleImputer # Imputation of missing values\n",
    "from scipy import stats # for Box-Cox Transformation\n",
    "from mlxtend.preprocessing import minmax_scaling # for min_max scaling\n",
    "import seaborn as sns # variety of plotting modules."
   ]
  },
  {
   "cell_type": "code",
   "execution_count": 2,
   "metadata": {},
   "outputs": [],
   "source": [
    "# Path of file\n",
    "file_path = (r'C:\\Users\\anuja\\Downloads\\nics-firearm-background-checks.csv')\n",
    "data_set = pd.read_csv(file_path, encoding='utf8')"
   ]
  },
  {
   "cell_type": "markdown",
   "metadata": {},
   "source": [
    "## Step3 -Data Cleaning\n",
    "* (1) Handling Missing Values\n",
    "* (2) Scaling and normalization"
   ]
  },
  {
   "cell_type": "markdown",
   "metadata": {},
   "source": [
    "### 💥(1) Handling Missing Values"
   ]
  },
  {
   "cell_type": "markdown",
   "metadata": {},
   "source": [
    "✏️**Taking a look at Dataset using sample() command**"
   ]
  },
  {
   "cell_type": "code",
   "execution_count": 3,
   "metadata": {},
   "outputs": [
    {
     "data": {
      "text/html": [
       "<div>\n",
       "<style scoped>\n",
       "    .dataframe tbody tr th:only-of-type {\n",
       "        vertical-align: middle;\n",
       "    }\n",
       "\n",
       "    .dataframe tbody tr th {\n",
       "        vertical-align: top;\n",
       "    }\n",
       "\n",
       "    .dataframe thead th {\n",
       "        text-align: right;\n",
       "    }\n",
       "</style>\n",
       "<table border=\"1\" class=\"dataframe\">\n",
       "  <thead>\n",
       "    <tr style=\"text-align: right;\">\n",
       "      <th></th>\n",
       "      <th>month</th>\n",
       "      <th>state</th>\n",
       "      <th>permit</th>\n",
       "      <th>permit_recheck</th>\n",
       "      <th>handgun</th>\n",
       "      <th>long_gun</th>\n",
       "      <th>other</th>\n",
       "      <th>multiple</th>\n",
       "      <th>admin</th>\n",
       "      <th>prepawn_handgun</th>\n",
       "      <th>...</th>\n",
       "      <th>returned_other</th>\n",
       "      <th>rentals_handgun</th>\n",
       "      <th>rentals_long_gun</th>\n",
       "      <th>private_sale_handgun</th>\n",
       "      <th>private_sale_long_gun</th>\n",
       "      <th>private_sale_other</th>\n",
       "      <th>return_to_seller_handgun</th>\n",
       "      <th>return_to_seller_long_gun</th>\n",
       "      <th>return_to_seller_other</th>\n",
       "      <th>totals</th>\n",
       "    </tr>\n",
       "  </thead>\n",
       "  <tbody>\n",
       "    <tr>\n",
       "      <th>3470</th>\n",
       "      <td>2014-12</td>\n",
       "      <td>Colorado</td>\n",
       "      <td>4623.0</td>\n",
       "      <td>NaN</td>\n",
       "      <td>20924.0</td>\n",
       "      <td>19494.0</td>\n",
       "      <td>1067.0</td>\n",
       "      <td>1185</td>\n",
       "      <td>0.0</td>\n",
       "      <td>0.0</td>\n",
       "      <td>...</td>\n",
       "      <td>NaN</td>\n",
       "      <td>NaN</td>\n",
       "      <td>NaN</td>\n",
       "      <td>0.0</td>\n",
       "      <td>0.0</td>\n",
       "      <td>0.0</td>\n",
       "      <td>0.0</td>\n",
       "      <td>0.0</td>\n",
       "      <td>0.0</td>\n",
       "      <td>47309</td>\n",
       "    </tr>\n",
       "    <tr>\n",
       "      <th>688</th>\n",
       "      <td>2019-03</td>\n",
       "      <td>Montana</td>\n",
       "      <td>1290.0</td>\n",
       "      <td>0.0</td>\n",
       "      <td>3703.0</td>\n",
       "      <td>4218.0</td>\n",
       "      <td>351.0</td>\n",
       "      <td>310</td>\n",
       "      <td>8.0</td>\n",
       "      <td>3.0</td>\n",
       "      <td>...</td>\n",
       "      <td>2.0</td>\n",
       "      <td>0.0</td>\n",
       "      <td>0.0</td>\n",
       "      <td>6.0</td>\n",
       "      <td>6.0</td>\n",
       "      <td>0.0</td>\n",
       "      <td>0.0</td>\n",
       "      <td>0.0</td>\n",
       "      <td>0.0</td>\n",
       "      <td>11143</td>\n",
       "    </tr>\n",
       "    <tr>\n",
       "      <th>5685</th>\n",
       "      <td>2011-08</td>\n",
       "      <td>Maine</td>\n",
       "      <td>0.0</td>\n",
       "      <td>NaN</td>\n",
       "      <td>2089.0</td>\n",
       "      <td>3125.0</td>\n",
       "      <td>51.0</td>\n",
       "      <td>141</td>\n",
       "      <td>0.0</td>\n",
       "      <td>13.0</td>\n",
       "      <td>...</td>\n",
       "      <td>NaN</td>\n",
       "      <td>NaN</td>\n",
       "      <td>NaN</td>\n",
       "      <td>NaN</td>\n",
       "      <td>NaN</td>\n",
       "      <td>NaN</td>\n",
       "      <td>NaN</td>\n",
       "      <td>NaN</td>\n",
       "      <td>NaN</td>\n",
       "      <td>5647</td>\n",
       "    </tr>\n",
       "    <tr>\n",
       "      <th>5727</th>\n",
       "      <td>2011-07</td>\n",
       "      <td>Delaware</td>\n",
       "      <td>0.0</td>\n",
       "      <td>NaN</td>\n",
       "      <td>737.0</td>\n",
       "      <td>561.0</td>\n",
       "      <td>18.0</td>\n",
       "      <td>31</td>\n",
       "      <td>0.0</td>\n",
       "      <td>0.0</td>\n",
       "      <td>...</td>\n",
       "      <td>NaN</td>\n",
       "      <td>NaN</td>\n",
       "      <td>NaN</td>\n",
       "      <td>NaN</td>\n",
       "      <td>NaN</td>\n",
       "      <td>NaN</td>\n",
       "      <td>NaN</td>\n",
       "      <td>NaN</td>\n",
       "      <td>NaN</td>\n",
       "      <td>1348</td>\n",
       "    </tr>\n",
       "    <tr>\n",
       "      <th>8759</th>\n",
       "      <td>2006-12</td>\n",
       "      <td>Illinois</td>\n",
       "      <td>32090.0</td>\n",
       "      <td>NaN</td>\n",
       "      <td>5986.0</td>\n",
       "      <td>12279.0</td>\n",
       "      <td>NaN</td>\n",
       "      <td>341</td>\n",
       "      <td>0.0</td>\n",
       "      <td>0.0</td>\n",
       "      <td>...</td>\n",
       "      <td>NaN</td>\n",
       "      <td>NaN</td>\n",
       "      <td>NaN</td>\n",
       "      <td>NaN</td>\n",
       "      <td>NaN</td>\n",
       "      <td>NaN</td>\n",
       "      <td>NaN</td>\n",
       "      <td>NaN</td>\n",
       "      <td>NaN</td>\n",
       "      <td>50696</td>\n",
       "    </tr>\n",
       "  </tbody>\n",
       "</table>\n",
       "<p>5 rows × 27 columns</p>\n",
       "</div>"
      ],
      "text/plain": [
       "        month     state   permit  permit_recheck  handgun  long_gun   other  \\\n",
       "3470  2014-12  Colorado   4623.0             NaN  20924.0   19494.0  1067.0   \n",
       "688   2019-03   Montana   1290.0             0.0   3703.0    4218.0   351.0   \n",
       "5685  2011-08     Maine      0.0             NaN   2089.0    3125.0    51.0   \n",
       "5727  2011-07  Delaware      0.0             NaN    737.0     561.0    18.0   \n",
       "8759  2006-12  Illinois  32090.0             NaN   5986.0   12279.0     NaN   \n",
       "\n",
       "      multiple  admin  prepawn_handgun  ...  returned_other  rentals_handgun  \\\n",
       "3470      1185    0.0              0.0  ...             NaN              NaN   \n",
       "688        310    8.0              3.0  ...             2.0              0.0   \n",
       "5685       141    0.0             13.0  ...             NaN              NaN   \n",
       "5727        31    0.0              0.0  ...             NaN              NaN   \n",
       "8759       341    0.0              0.0  ...             NaN              NaN   \n",
       "\n",
       "      rentals_long_gun  private_sale_handgun  private_sale_long_gun  \\\n",
       "3470               NaN                   0.0                    0.0   \n",
       "688                0.0                   6.0                    6.0   \n",
       "5685               NaN                   NaN                    NaN   \n",
       "5727               NaN                   NaN                    NaN   \n",
       "8759               NaN                   NaN                    NaN   \n",
       "\n",
       "      private_sale_other  return_to_seller_handgun  return_to_seller_long_gun  \\\n",
       "3470                 0.0                       0.0                        0.0   \n",
       "688                  0.0                       0.0                        0.0   \n",
       "5685                 NaN                       NaN                        NaN   \n",
       "5727                 NaN                       NaN                        NaN   \n",
       "8759                 NaN                       NaN                        NaN   \n",
       "\n",
       "      return_to_seller_other  totals  \n",
       "3470                     0.0   47309  \n",
       "688                      0.0   11143  \n",
       "5685                     NaN    5647  \n",
       "5727                     NaN    1348  \n",
       "8759                     NaN   50696  \n",
       "\n",
       "[5 rows x 27 columns]"
      ]
     },
     "execution_count": 3,
     "metadata": {},
     "output_type": "execute_result"
    }
   ],
   "source": [
    "# look at a few rows of the data_set to spot missing data\n",
    "data_set.sample(5)"
   ]
  },
  {
   "cell_type": "markdown",
   "metadata": {},
   "source": [
    "So there are some missing values in the dataset."
   ]
  },
  {
   "cell_type": "markdown",
   "metadata": {},
   "source": [
    "✏️**Finding the number of Missing Values**"
   ]
  },
  {
   "cell_type": "code",
   "execution_count": 4,
   "metadata": {},
   "outputs": [
    {
     "data": {
      "text/plain": [
       "month                  0\n",
       "state                  0\n",
       "permit                24\n",
       "permit_recheck     11385\n",
       "handgun               20\n",
       "long_gun              19\n",
       "other               6985\n",
       "multiple               0\n",
       "admin                 23\n",
       "prepawn_handgun     1943\n",
       "dtype: int64"
      ]
     },
     "execution_count": 4,
     "metadata": {},
     "output_type": "execute_result"
    }
   ],
   "source": [
    "# get the number of missing data points per column\n",
    "missing_values_count = data_set.isnull().sum()\n",
    "\n",
    "# look at the number missing points in the first ten columns\n",
    "missing_values_count[0:10]"
   ]
  },
  {
   "cell_type": "markdown",
   "metadata": {},
   "source": [
    "So there are many Missing Values in the dataset."
   ]
  },
  {
   "cell_type": "markdown",
   "metadata": {},
   "source": [
    "✏️**Checking Percentage of the Missing values in dataset**"
   ]
  },
  {
   "cell_type": "code",
   "execution_count": 5,
   "metadata": {},
   "outputs": [
    {
     "data": {
      "text/plain": [
       "40.50753972932961"
      ]
     },
     "execution_count": 5,
     "metadata": {},
     "output_type": "execute_result"
    }
   ],
   "source": [
    "# how many total missing values are there?\n",
    "total_cells = np.product(data_set.shape)\n",
    "total_missing = missing_values_count.sum()\n",
    "\n",
    "# percent of data that is missing\n",
    "(total_missing/total_cells) * 100"
   ]
  },
  {
   "cell_type": "markdown",
   "metadata": {},
   "source": [
    "**40% of data is missing in the dataset. If this percentage is less, then we can use dropna() command.Let's take a closer look at some of the columns with missing values and try to figure out what might be going on with them.**\n",
    "\n"
   ]
  },
  {
   "cell_type": "markdown",
   "metadata": {},
   "source": [
    "### <u>Data Intuition Technique</u> \n",
    "**We should figure out why so much data is missing. We can do this by asking a simple question-**\n",
    "## Is this value missing becuase it wasn't recorded or becuase it dosen't exist?\n",
    "* <b>If a value is missing becuase it doens't exist then it doesn't make sense to try and guess what it might be. These values can be kept as NaN.</b>\n",
    "\n",
    "### <u>Data Imputation Technique</u>\n",
    "* <b>On the other hand, if a value is missing becuase it wasn't recorded, then we should guess what it might have been based on the other values in that column and row.</b>"
   ]
  },
  {
   "cell_type": "markdown",
   "metadata": {},
   "source": [
    "✏️**Data Imputation**\n",
    "\n",
    "1- Bfill Command\n",
    "\n",
    "*If we drop the missing values, then we might lose a large part of Dataset. Hence we should fill the Missing values with whatever value comes directly after it in the same column using 'bfill'(We can also replace the missing data with zero by using fillna command.)*"
   ]
  },
  {
   "cell_type": "code",
   "execution_count": 6,
   "metadata": {},
   "outputs": [],
   "source": [
    "# Imputing data based on other values in that column  \n",
    "dataset_bfill = data_set.fillna(method = 'bfill', axis=0).fillna(0)"
   ]
  },
  {
   "cell_type": "markdown",
   "metadata": {},
   "source": [
    "**OR**\n",
    "\n",
    "2- Simple Imputer Method -The default behavior fills in the mean value for imputation."
   ]
  },
  {
   "cell_type": "code",
   "execution_count": 7,
   "metadata": {},
   "outputs": [],
   "source": [
    "# using pd.to_numeric to convert data in numeric values.If incompatible with conversion, reducing to NaNs\n",
    "data_set_conv_num = data_set.apply(pd.to_numeric, errors='coerce')\n",
    "data_set_conv_num.fillna(0, inplace=True)"
   ]
  },
  {
   "cell_type": "code",
   "execution_count": 8,
   "metadata": {},
   "outputs": [],
   "source": [
    "my_imputer = SimpleImputer()\n",
    "data_with_imputed_values = my_imputer.fit_transform(data_set_conv_num)"
   ]
  },
  {
   "cell_type": "markdown",
   "metadata": {},
   "source": [
    "**OR**\n",
    "\n",
    "3- Filling all empty values with Zero using fillna command"
   ]
  },
  {
   "cell_type": "code",
   "execution_count": 9,
   "metadata": {},
   "outputs": [],
   "source": [
    "dataset_zero = data_set.fillna(0)"
   ]
  },
  {
   "cell_type": "markdown",
   "metadata": {},
   "source": [
    "**OR**\n",
    "\n",
    "4- Dropping Columns with Missing Values"
   ]
  },
  {
   "cell_type": "code",
   "execution_count": 10,
   "metadata": {},
   "outputs": [],
   "source": [
    "# Dropping Columns that contains Null Values\n",
    "dataset_drop = data_set.dropna(axis = 1)"
   ]
  },
  {
   "cell_type": "markdown",
   "metadata": {},
   "source": [
    "**✏️Comparing All Four Solutions of Handling Missing Data**"
   ]
  },
  {
   "cell_type": "markdown",
   "metadata": {},
   "source": [
    "1- Bfill Command \n",
    "\n",
    "2- Simple Imputer Method\n",
    "\n",
    "3- Filling all empty values with Zero using fillna command\n",
    "\n",
    "4- Dropping Columns with Missing Values\n",
    "\n",
    "Based on intution, out of Simple Imputer and Bfill method, we can chose Simple Imputer method for now"
   ]
  },
  {
   "cell_type": "markdown",
   "metadata": {},
   "source": [
    "Hence, now data_with_imputed_values dataset is cleaned data and to work further."
   ]
  },
  {
   "cell_type": "markdown",
   "metadata": {},
   "source": [
    "### 💥(2) Scaling and normalization"
   ]
  },
  {
   "cell_type": "markdown",
   "metadata": {},
   "source": [
    "In both we transform the values of numeric variables so that the transformed data points have specific helpful properties. The difference is that, in scaling, you're changing the range of your data while in normalization you're changing the shape of the distribution of your data.\n",
    "\n",
    "✏️**Scaling**\n",
    "This means that you're transforming your data so that it fits within a specific scale, like 0-100 or 0-1. You want to scale data when you're using methods based on measures of how far apart data points, like **support vector machines, or SVM or k-nearest neighbors, or KNN**. With these algorithms, a change of \"1\" in any numeric feature is given the same importance.\n",
    "\n",
    "For eg 1 euro = 80 inr, thus we can relate it using scaling."
   ]
  },
  {
   "cell_type": "code",
   "execution_count": 13,
   "metadata": {},
   "outputs": [
    {
     "data": {
      "text/plain": [
       "Text(0.5, 1.0, 'Scaled data')"
      ]
     },
     "execution_count": 13,
     "metadata": {},
     "output_type": "execute_result"
    },
    {
     "data": {
      "image/png": "[encoded data removed]",
      "text/plain": [
       "<Figure size 432x288 with 2 Axes>"
      ]
     },
     "metadata": {
      "needs_background": "light"
     },
     "output_type": "display_data"
    }
   ],
   "source": [
    "import matplotlib.pyplot as plt\n",
    "# generate 1000 data points randomly drawn from an exponential distribution\n",
    "original_data = np.random.exponential(size = 1000)\n",
    "\n",
    "# mix-max scale the data between 0 and 1\n",
    "scaled_data = minmax_scaling(original_data, columns = [0])\n",
    "\n",
    "# plot both together to compare\n",
    "fig, ax=plt.subplots(1,2)\n",
    "sns.distplot(original_data, ax=ax[0])\n",
    "ax[0].set_title(\"Original Data\")\n",
    "sns.distplot(scaled_data, ax=ax[1])\n",
    "ax[1].set_title(\"Scaled data\")"
   ]
  },
  {
   "cell_type": "markdown",
   "metadata": {},
   "source": [
    "## Observation\n",
    " The shape of the data doesn't change, but that instead of ranging from 0 to 8ish, it now ranges from 0 to 5."
   ]
  },
  {
   "cell_type": "markdown",
   "metadata": {},
   "source": [
    "✏️**Normality**\n",
    "The point of normalization is to change your observations so that they can be described as a normal distribution.\n",
    "Data Normalization is done if you're going to use a machine learning or statistics technique that assumes your data is normally distributed. \n",
    "Some examples: **t-tests, ANOVAs, linear regression, linear discriminant analysis (LDA) and Gaussian naive Bayes**. \n",
    "\n",
    "Pro tip: any method with \"Gaussian\" in the name probably assumes normality.\n",
    "The method were using to normalize here is called the Box-Cox Transformation.\n"
   ]
  },
  {
   "cell_type": "code",
   "execution_count": 15,
   "metadata": {},
   "outputs": [
    {
     "data": {
      "text/plain": [
       "Text(0.5, 1.0, 'Normalized data')"
      ]
     },
     "execution_count": 15,
     "metadata": {},
     "output_type": "execute_result"
    },
    {
     "data": {
      "image/png": "[encoded data removed]",
      "text/plain": [
       "<Figure size 432x288 with 2 Axes>"
      ]
     },
     "metadata": {
      "needs_background": "light"
     },
     "output_type": "display_data"
    }
   ],
   "source": [
    "# normalize the exponential data with boxcox\n",
    "normalized_data = stats.boxcox(data_set)\n",
    "\n",
    "# plot both together to compare\n",
    "fig, ax=plt.subplots(1,2)\n",
    "sns.distplot(data_with_imputed_values, ax=ax[0])\n",
    "ax[0].set_title(\"Original Data\")\n",
    "sns.distplot(normalized_data[0], ax=ax[1])\n",
    "ax[1].set_title(\"Normalized data\")"
   ]
  },
  {
   "cell_type": "markdown",
   "metadata": {},
   "source": [
    "## Observation\n",
    "The shape of our data has changed from L-shaped to bell curve."
   ]
  },
  {
   "cell_type": "markdown",
   "metadata": {},
   "source": [
    "# 🔑Conclusion\n",
    "This project covers two data cleaning techniques which are Handling Missing Values and Scaling - Normalization Techniques. There are other data cleaning techniques too which can be used as per the need in a project."
   ]
  }
 ],
 "metadata": {
  "kernelspec": {
   "display_name": "Python 3",
   "language": "python",
   "name": "python3"
  },
  "language_info": {
   "codemirror_mode": {
    "name": "ipython",
    "version": 3
   },
   "file_extension": ".py",
   "mimetype": "text/x-python",
   "name": "python",
   "nbconvert_exporter": "python",
   "pygments_lexer": "ipython3",
   "version": "3.7.6"
  }
 },
 "nbformat": 4,
 "nbformat_minor": 4
}
